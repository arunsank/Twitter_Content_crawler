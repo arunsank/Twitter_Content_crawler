{
 "cells": [
  {
   "cell_type": "code",
   "execution_count": 527,
   "metadata": {
    "collapsed": true
   },
   "outputs": [],
   "source": [
    "#Import\n",
    "import os  \n",
    "import re\n",
    "import sys  \n",
    "import json  \n",
    "import nltk\n",
    "import gensim\n",
    "import string\n",
    "import operator\n",
    "import numpy as np  \n",
    "import pandas as pd\n",
    "import seaborn as sns\n",
    "import collections,re\n",
    "import matplotlib.pyplot as plt\n",
    "from collections import Counter\n",
    "from nltk.corpus import stopwords\n",
    "from gensim import corpora, models\n",
    "from sklearn.cluster import KMeans\n",
    "from collections import defaultdict\n",
    "from nltk.tokenize import RegexpTokenizer\n",
    "from pandas.io.json import json_normalize\n",
    "from nltk.stem.porter import PorterStemmer\n",
    "from sklearn.decomposition import TruncatedSVD \n",
    "from sklearn.metrics import adjusted_rand_score\n",
    "from statsmodels.graphics.mosaicplot import mosaic\n",
    "from sklearn.feature_extraction.text import CountVectorizer\n",
    "from sklearn.feature_extraction.text import TfidfVectorizer\n",
    "\n",
    "sns.set(style=\"whitegrid\", color_codes=True)\n",
    "\n",
    "\n",
    "%matplotlib inline\n"
   ]
  },
  {
   "cell_type": "markdown",
   "metadata": {},
   "source": [
    "# Extract and analyze"
   ]
  },
  {
   "cell_type": "code",
   "execution_count": 2,
   "metadata": {
    "collapsed": true
   },
   "outputs": [],
   "source": [
    "#Extract\n",
    "data=pd.read_csv('data.csv')\n"
   ]
  },
  {
   "cell_type": "code",
   "execution_count": 3,
   "metadata": {
    "collapsed": true
   },
   "outputs": [],
   "source": [
    "data.columns = ['Tweets','Handle','ID','Location','Sentiment']"
   ]
  },
  {
   "cell_type": "code",
   "execution_count": 76,
   "metadata": {},
   "outputs": [
    {
     "name": "stdout",
     "output_type": "stream",
     "text": [
      "The number of tweets collected from intial trial batch = 248\n"
     ]
    }
   ],
   "source": [
    "print(\"The number of tweets collected from intial trial batch = {}\".format(len(data)) )"
   ]
  },
  {
   "cell_type": "code",
   "execution_count": 4,
   "metadata": {},
   "outputs": [
    {
     "data": {
      "text/html": [
       "<div>\n",
       "<style>\n",
       "    .dataframe thead tr:only-child th {\n",
       "        text-align: right;\n",
       "    }\n",
       "\n",
       "    .dataframe thead th {\n",
       "        text-align: left;\n",
       "    }\n",
       "\n",
       "    .dataframe tbody tr th {\n",
       "        vertical-align: top;\n",
       "    }\n",
       "</style>\n",
       "<table border=\"1\" class=\"dataframe\">\n",
       "  <thead>\n",
       "    <tr style=\"text-align: right;\">\n",
       "      <th></th>\n",
       "      <th>Tweets</th>\n",
       "      <th>Handle</th>\n",
       "      <th>ID</th>\n",
       "      <th>Location</th>\n",
       "      <th>Sentiment</th>\n",
       "    </tr>\n",
       "  </thead>\n",
       "  <tbody>\n",
       "    <tr>\n",
       "      <th>0</th>\n",
       "      <td>This #job might be a great fit for you: Purcha...</td>\n",
       "      <td>khcareers</td>\n",
       "      <td>2.916861e+09</td>\n",
       "      <td>Torrance, CA &amp; Oakwood, GA</td>\n",
       "      <td>pos</td>\n",
       "    </tr>\n",
       "    <tr>\n",
       "      <th>1</th>\n",
       "      <td>If you're looking for work in #Coppell, TX, ch...</td>\n",
       "      <td>DToolboxJobs</td>\n",
       "      <td>1.058711e+09</td>\n",
       "      <td>United States</td>\n",
       "      <td>pos</td>\n",
       "    </tr>\n",
       "    <tr>\n",
       "      <th>2</th>\n",
       "      <td>RT @Employ_Veterans: #Purchasing and #inventor...</td>\n",
       "      <td>geoffrey_payne</td>\n",
       "      <td>9.835086e+08</td>\n",
       "      <td>The Goldfields</td>\n",
       "      <td>neu</td>\n",
       "    </tr>\n",
       "    <tr>\n",
       "      <th>3</th>\n",
       "      <td>How To Write A Personal Statement For Your Res...</td>\n",
       "      <td>Cr8tiveResource</td>\n",
       "      <td>1.738476e+08</td>\n",
       "      <td>Stockport</td>\n",
       "      <td>neu</td>\n",
       "    </tr>\n",
       "    <tr>\n",
       "      <th>4</th>\n",
       "      <td>Looking for a #job? Join us Tuesday at #Frisco...</td>\n",
       "      <td>Stonebriar</td>\n",
       "      <td>2.063509e+08</td>\n",
       "      <td>Frisco, Texas</td>\n",
       "      <td>neg</td>\n",
       "    </tr>\n",
       "  </tbody>\n",
       "</table>\n",
       "</div>"
      ],
      "text/plain": [
       "                                              Tweets           Handle  \\\n",
       "0  This #job might be a great fit for you: Purcha...        khcareers   \n",
       "1  If you're looking for work in #Coppell, TX, ch...     DToolboxJobs   \n",
       "2  RT @Employ_Veterans: #Purchasing and #inventor...   geoffrey_payne   \n",
       "3  How To Write A Personal Statement For Your Res...  Cr8tiveResource   \n",
       "4  Looking for a #job? Join us Tuesday at #Frisco...       Stonebriar   \n",
       "\n",
       "             ID                    Location Sentiment  \n",
       "0  2.916861e+09  Torrance, CA & Oakwood, GA       pos  \n",
       "1  1.058711e+09               United States       pos  \n",
       "2  9.835086e+08              The Goldfields       neu  \n",
       "3  1.738476e+08                   Stockport       neu  \n",
       "4  2.063509e+08               Frisco, Texas       neg  "
      ]
     },
     "execution_count": 4,
     "metadata": {},
     "output_type": "execute_result"
    }
   ],
   "source": [
    "data.head()"
   ]
  },
  {
   "cell_type": "code",
   "execution_count": 528,
   "metadata": {
    "collapsed": true
   },
   "outputs": [],
   "source": [
    "def preprocess_text(data):\n",
    "    \n",
    "    \"\"\"\n",
    "    Function to preprocess and remove stopwords from data frame\n",
    "    Input type - DataFrame - data \n",
    "    Output type - DataFrame - data \n",
    "    \"\"\"\n",
    "    \n",
    "    data['Tweets']= data['Tweets'].str.replace(r'\\w+:\\/{2}[\\d\\w-]+(\\.[\\d\\w-]+)*(?:(?:\\/[^https\\s/]*))*', '').astype('str')\n",
    "    data['Tweets'] = data['Tweets'].str.replace('-','')\n",
    "    tweets =data['Tweets']\n",
    "    data['Tweets']= list(filter(lambda x: x not in stopwords.words('english'), tweets))\n",
    "\n",
    "    \n",
    "    return data\n"
   ]
  },
  {
   "cell_type": "code",
   "execution_count": 530,
   "metadata": {
    "collapsed": true
   },
   "outputs": [],
   "source": [
    "#Initial preprocessing\n",
    "data = preprocess_text(data)"
   ]
  },
  {
   "cell_type": "code",
   "execution_count": 31,
   "metadata": {},
   "outputs": [
    {
     "data": {
      "image/png": "[encoded data removed]",
      "text/plain": [
       "<matplotlib.figure.Figure at 0x277e4c4bd30>"
      ]
     },
     "metadata": {},
     "output_type": "display_data"
    }
   ],
   "source": [
    "#Analyze sentiments count\n",
    "ax = sns.countplot(x=\"Sentiment\", data=data)\n",
    "plt.title('Sentiments and Counts')\n",
    "plt.show()"
   ]
  },
  {
   "cell_type": "markdown",
   "metadata": {},
   "source": [
    "As expected we have neutral emotioned tweets which are actual job posts posted on Twitter,positive emotions show intent, while negative are expected to be critiques and advices in our field of study. It is apparant that there is a class imbalance between the sentiments."
   ]
  },
  {
   "cell_type": "code",
   "execution_count": null,
   "metadata": {
    "collapsed": true
   },
   "outputs": [],
   "source": []
  },
  {
   "cell_type": "code",
   "execution_count": 531,
   "metadata": {},
   "outputs": [
    {
     "data": {
      "image/png": "[encoded data removed]",
      "text/plain": [
       "<matplotlib.figure.Figure at 0x277e7e6cb00>"
      ]
     },
     "metadata": {},
     "output_type": "display_data"
    }
   ],
   "source": [
    "#Visualize the count of tweets by each handle\n",
    "ax = sns.countplot(x=\"Handle\", data=data)\n",
    "plt.title('Handles and Counts')\n",
    "plt.show()"
   ]
  },
  {
   "cell_type": "markdown",
   "metadata": {},
   "source": [
    "From the bar chart we could see that the counts of tweets are not normalized, there could be a possible bias when a handle tweets more about our search. We could effeciently sample to remove this bias if we were to create a predictive model. The data for us are the tweets. The intial step would involve transformation of words in the corpus into numerical feature vectors inorder to implement Machine Learning algorithms"
   ]
  },
  {
   "cell_type": "markdown",
   "metadata": {},
   "source": [
    "# Word Analysis"
   ]
  },
  {
   "cell_type": "markdown",
   "metadata": {
    "collapsed": true
   },
   "source": [
    "In this section we analyze the tweets even more. We look for possible patterns, create bigrams and trigrams and create a co occurance matrix to analyze the common pairs of words in our search"
   ]
  },
  {
   "cell_type": "code",
   "execution_count": 532,
   "metadata": {
    "collapsed": true
   },
   "outputs": [],
   "source": [
    "#What words other our search query are important- Major_words excludes job search\n",
    "major_words = [word for word in data['Tweets'] if 'jobsearch' not in word.lower()]"
   ]
  },
  {
   "cell_type": "code",
   "execution_count": 533,
   "metadata": {},
   "outputs": [],
   "source": [
    "# Naive Bigram and trigram analysis\n",
    "bigrams = [(ele, tex.split()[i+1]) for tex in data['Tweets']  for i,ele in enumerate(tex.split()) if i < len(tex.split())-1]\n",
    "Trigrams = [(ele, tex.split()[i+1],tex.split()[i+2]) for tex in data['Tweets']  for i,ele in enumerate(tex.split()) if i < len(tex.split())-2]  "
   ]
  },
  {
   "cell_type": "markdown",
   "metadata": {},
   "source": [
    "Now we have grouped Bigrams and Trigrams together, but we are unsure how important each pairs are"
   ]
  },
  {
   "cell_type": "markdown",
   "metadata": {},
   "source": [
    "## Processing functions"
   ]
  },
  {
   "cell_type": "code",
   "execution_count": 106,
   "metadata": {
    "collapsed": true
   },
   "outputs": [],
   "source": [
    "#Excluding emoticons that people might include in their tweets\n",
    "emoticons_str = r\"\"\"(?:\n",
    "        [:=;] # Eyes\n",
    "        [oO\\-]? # Nose (optional)\n",
    "        [D\\)\\]\\(\\]/\\\\OpP] # Mouth\n",
    "    )\"\"\""
   ]
  },
  {
   "cell_type": "code",
   "execution_count": 356,
   "metadata": {
    "collapsed": true
   },
   "outputs": [],
   "source": [
    "#Creating a regex with emoticons and other junk characters\n",
    "regex_str = [emoticons_str,r'<[^>]+>', # HTML tags\n",
    "r'(?:@[\\w_]+)', # @-mentions\n",
    "r\"(?:\\#+[\\w_]+[\\w\\'_\\-]*[\\w_]+)\", # hash-tags\n",
    "r'http[s]?://(?:[a-z]|[0-9]|[$-_@.&amp;+]|[!*\\(\\),]|(?:%[0-9a-f][0-9a-f]))+', # URLs\n",
    "r'(?:(?:\\d+,?)+(?:\\.?\\d+)?)', # numbers\n",
    "r\"(?:[a-z][a-z'\\-_]+[a-z])\", # words with - and '\n",
    "r'(?:[\\w_]+)', # other words\n",
    "r'(?:\\S)' # anything else\n",
    "]"
   ]
  },
  {
   "cell_type": "code",
   "execution_count": 534,
   "metadata": {
    "collapsed": true
   },
   "outputs": [],
   "source": [
    "#Create stop word filter\n",
    "punctuation = list(string.punctuation)\n",
    "stop = stopwords.words('english') + punctuation + ['rt', 'via', '...', 'RT'] + regex_str"
   ]
  },
  {
   "cell_type": "code",
   "execution_count": 402,
   "metadata": {
    "collapsed": true
   },
   "outputs": [],
   "source": [
    "#Storing words without the characters that we set as unimportant\n",
    "major_filt_words = [word for word in data['Tweets'] if word.lower() not in stop]"
   ]
  },
  {
   "cell_type": "code",
   "execution_count": 314,
   "metadata": {},
   "outputs": [],
   "source": [
    "def tokenize(s):\n",
    "    #Tokenize each string and return\n",
    "        return tokens_re.findall(s)"
   ]
  },
  {
   "cell_type": "code",
   "execution_count": 313,
   "metadata": {},
   "outputs": [],
   "source": [
    "def preprocess(s, lowercase=False):\n",
    "        tokens = tokenize(s)\n",
    "        if lowercase:\n",
    "            tokens = [token if emoticon_re.search(token) else token.lower() for token in tokens]\n",
    "        return tokens"
   ]
  },
  {
   "cell_type": "code",
   "execution_count": null,
   "metadata": {
    "collapsed": true
   },
   "outputs": [],
   "source": []
  },
  {
   "cell_type": "markdown",
   "metadata": {},
   "source": [
    "# Unigram Analysis"
   ]
  },
  {
   "cell_type": "markdown",
   "metadata": {},
   "source": [
    "In this section we perform unigram analysis and perform term and hastag frequency analysis"
   ]
  },
  {
   "cell_type": "code",
   "execution_count": 535,
   "metadata": {},
   "outputs": [],
   "source": [
    "# Count hashtags\n",
    "terms_hash = [term for term in tokenize(str(major_filt_words)) if term.startswith('#')]\n",
    "# Count terms \n",
    "terms_only = [term for term in tokenize(str(major_filt_words)) if term not in stop and not term.startswith(('#', '@'))] "
   ]
  },
  {
   "cell_type": "code",
   "execution_count": 536,
   "metadata": {},
   "outputs": [],
   "source": [
    "#Create counter object\n",
    "count_all = Counter()\n",
    "count_all.update(terms_hash)\n",
    "Hash_top =pd.DataFrame(count_all.most_common(10))"
   ]
  },
  {
   "cell_type": "code",
   "execution_count": 372,
   "metadata": {},
   "outputs": [],
   "source": [
    "Hash_top.columns = ['Hashtags','Count']"
   ]
  },
  {
   "cell_type": "code",
   "execution_count": 373,
   "metadata": {},
   "outputs": [
    {
     "data": {
      "image/png": "[encoded data removed]",
      "text/plain": [
       "<matplotlib.figure.Figure at 0x277e4a47470>"
      ]
     },
     "metadata": {},
     "output_type": "display_data"
    }
   ],
   "source": [
    "#Top hashtags\n",
    "Hash_top.plot(x='Hashtags', y='Count', kind='bar')\n",
    "plt.show()"
   ]
  },
  {
   "cell_type": "code",
   "execution_count": 404,
   "metadata": {},
   "outputs": [],
   "source": [
    "count_term = Counter()\n",
    "count_term.update(terms_only)\n",
    "Term_top =pd.DataFrame(count_term.most_common(10))"
   ]
  },
  {
   "cell_type": "code",
   "execution_count": 405,
   "metadata": {},
   "outputs": [],
   "source": [
    "Term_top.columns = ['Terms','Count']"
   ]
  },
  {
   "cell_type": "code",
   "execution_count": 406,
   "metadata": {},
   "outputs": [
    {
     "data": {
      "image/png": "[encoded data removed]",
      "text/plain": [
       "<matplotlib.figure.Figure at 0x277e58d9400>"
      ]
     },
     "metadata": {},
     "output_type": "display_data"
    }
   ],
   "source": [
    "#Top hashtags\n",
    "Term_top.plot(x='Terms', y='Count', kind='bar')\n",
    "plt.show()"
   ]
  },
  {
   "cell_type": "code",
   "execution_count": null,
   "metadata": {},
   "outputs": [],
   "source": []
  },
  {
   "cell_type": "markdown",
   "metadata": {},
   "source": [
    "# Bigram Analysis "
   ]
  },
  {
   "cell_type": "markdown",
   "metadata": {},
   "source": [
    "In this section we perform bigram analysis. We analyze cooccurance of words and look for possible patterns"
   ]
  },
  {
   "cell_type": "code",
   "execution_count": 408,
   "metadata": {
    "collapsed": true
   },
   "outputs": [],
   "source": [
    "# Cocoocurence matrix\n",
    "com = defaultdict(lambda : defaultdict(int))\n",
    "search_item= 'Jobs'\n",
    "count_search = Counter()\n",
    "# Iterate through our tweets and identify cooccurence of words\n",
    "for tweet in data['Tweets']:\n",
    "    terms_only = [term for term in preprocess(tweet) if term not in stop and not term.startswith(('#', '@'))]\n",
    "    if search_item in terms_only:\n",
    "            count_search.update(terms_only)\n",
    "    for i in range(len(terms_only)-1):\n",
    "        for j in range(i+1, len(terms_only)):\n",
    "            w1, w2 = sorted([terms_only[i], terms_only[j]])\n",
    "            if w1 != w2:\n",
    "                com[w1][w2] += 1"
   ]
  },
  {
   "cell_type": "code",
   "execution_count": 538,
   "metadata": {},
   "outputs": [
    {
     "name": "stdout",
     "output_type": "stream",
     "text": [
      "Top co-occuring items\n"
     ]
    },
    {
     "data": {
      "text/html": [
       "<div>\n",
       "<style>\n",
       "    .dataframe thead tr:only-child th {\n",
       "        text-align: right;\n",
       "    }\n",
       "\n",
       "    .dataframe thead th {\n",
       "        text-align: left;\n",
       "    }\n",
       "\n",
       "    .dataframe tbody tr th {\n",
       "        vertical-align: top;\n",
       "    }\n",
       "</style>\n",
       "<table border=\"1\" class=\"dataframe\">\n",
       "  <thead>\n",
       "    <tr style=\"text-align: right;\">\n",
       "      <th></th>\n",
       "      <th>Pairs</th>\n",
       "      <th>Count</th>\n",
       "    </tr>\n",
       "  </thead>\n",
       "  <tbody>\n",
       "    <tr>\n",
       "      <th>0</th>\n",
       "      <td>(Jobs, Marketing)</td>\n",
       "      <td>27</td>\n",
       "    </tr>\n",
       "    <tr>\n",
       "      <th>1</th>\n",
       "      <td>(You, …)</td>\n",
       "      <td>20</td>\n",
       "    </tr>\n",
       "    <tr>\n",
       "      <th>2</th>\n",
       "      <td>(You, amp)</td>\n",
       "      <td>17</td>\n",
       "    </tr>\n",
       "    <tr>\n",
       "      <th>3</th>\n",
       "      <td>(Driver, You)</td>\n",
       "      <td>15</td>\n",
       "    </tr>\n",
       "    <tr>\n",
       "      <th>4</th>\n",
       "      <td>(Marketing, Sales)</td>\n",
       "      <td>15</td>\n",
       "    </tr>\n",
       "  </tbody>\n",
       "</table>\n",
       "</div>"
      ],
      "text/plain": [
       "                Pairs  Count\n",
       "0   (Jobs, Marketing)     27\n",
       "1            (You, …)     20\n",
       "2          (You, amp)     17\n",
       "3       (Driver, You)     15\n",
       "4  (Marketing, Sales)     15"
      ]
     },
     "execution_count": 538,
     "metadata": {},
     "output_type": "execute_result"
    }
   ],
   "source": [
    "#Look up for co occuring items\n",
    "com_max = []\n",
    "for t1 in com:\n",
    "        t1_max_terms = sorted(com[t1].items(), key=operator.itemgetter(1), reverse=True)[:5]\n",
    "        for t2, t2_count in t1_max_terms:\n",
    "            com_max.append(((t1, t2), t2_count))\n",
    "        \n",
    "# Get the most frequent co-occurrences\n",
    "terms_max = sorted(com_max, key=operator.itemgetter(1), reverse=True)\n",
    "terms_max= pd.DataFrame(terms_max)\n",
    "print(\"Top co-occuring items\")\n",
    "terms_max.columns= ['Pairs','Count']\n",
    "terms_max [:5]"
   ]
  },
  {
   "cell_type": "code",
   "execution_count": 537,
   "metadata": {},
   "outputs": [
    {
     "name": "stdout",
     "output_type": "stream",
     "text": [
      "Top co-occuring items for keyword Jobs =\n"
     ]
    },
    {
     "data": {
      "text/html": [
       "<div>\n",
       "<style>\n",
       "    .dataframe thead tr:only-child th {\n",
       "        text-align: right;\n",
       "    }\n",
       "\n",
       "    .dataframe thead th {\n",
       "        text-align: left;\n",
       "    }\n",
       "\n",
       "    .dataframe tbody tr th {\n",
       "        vertical-align: top;\n",
       "    }\n",
       "</style>\n",
       "<table border=\"1\" class=\"dataframe\">\n",
       "  <thead>\n",
       "    <tr style=\"text-align: right;\">\n",
       "      <th></th>\n",
       "      <th>Terms</th>\n",
       "      <th>Count</th>\n",
       "    </tr>\n",
       "  </thead>\n",
       "  <tbody>\n",
       "    <tr>\n",
       "      <th>0</th>\n",
       "      <td>Jobs</td>\n",
       "      <td>30</td>\n",
       "    </tr>\n",
       "    <tr>\n",
       "      <th>1</th>\n",
       "      <td>Marketing</td>\n",
       "      <td>27</td>\n",
       "    </tr>\n",
       "    <tr>\n",
       "      <th>2</th>\n",
       "      <td>Manager</td>\n",
       "      <td>7</td>\n",
       "    </tr>\n",
       "    <tr>\n",
       "      <th>3</th>\n",
       "      <td>And</td>\n",
       "      <td>7</td>\n",
       "    </tr>\n",
       "    <tr>\n",
       "      <th>4</th>\n",
       "      <td>Sales</td>\n",
       "      <td>5</td>\n",
       "    </tr>\n",
       "    <tr>\n",
       "      <th>5</th>\n",
       "      <td>Director</td>\n",
       "      <td>5</td>\n",
       "    </tr>\n",
       "    <tr>\n",
       "      <th>6</th>\n",
       "      <td>Specialist</td>\n",
       "      <td>4</td>\n",
       "    </tr>\n",
       "    <tr>\n",
       "      <th>7</th>\n",
       "      <td>k</td>\n",
       "      <td>4</td>\n",
       "    </tr>\n",
       "    <tr>\n",
       "      <th>8</th>\n",
       "      <td>9</td>\n",
       "      <td>4</td>\n",
       "    </tr>\n",
       "    <tr>\n",
       "      <th>9</th>\n",
       "      <td>Digital</td>\n",
       "      <td>4</td>\n",
       "    </tr>\n",
       "  </tbody>\n",
       "</table>\n",
       "</div>"
      ],
      "text/plain": [
       "        Terms  Count\n",
       "0        Jobs     30\n",
       "1   Marketing     27\n",
       "2     Manager      7\n",
       "3         And      7\n",
       "4       Sales      5\n",
       "5    Director      5\n",
       "6  Specialist      4\n",
       "7           k      4\n",
       "8           9      4\n",
       "9     Digital      4"
      ]
     },
     "execution_count": 537,
     "metadata": {},
     "output_type": "execute_result"
    }
   ],
   "source": [
    "print(\"Top co-occuring items for keyword {} =\".format(search_item) )\n",
    "Top_search= pd.DataFrame(count_search.most_common(10))\n",
    "Top_search.columns =['Terms','Count']\n",
    "Top_search[:10]"
   ]
  },
  {
   "cell_type": "code",
   "execution_count": null,
   "metadata": {
    "collapsed": true
   },
   "outputs": [],
   "source": []
  },
  {
   "cell_type": "markdown",
   "metadata": {},
   "source": [
    "# Transformation and Clustering using Machine Learning approaches"
   ]
  },
  {
   "cell_type": "code",
   "execution_count": 539,
   "metadata": {
    "collapsed": true
   },
   "outputs": [],
   "source": [
    "vectorizer = TfidfVectorizer(stop_words='english')\n",
    "X = vectorizer.fit_transform(major_words)"
   ]
  },
  {
   "cell_type": "code",
   "execution_count": 428,
   "metadata": {},
   "outputs": [
    {
     "data": {
      "image/png": "[encoded data removed]",
      "text/plain": [
       "<matplotlib.figure.Figure at 0x277e59cfcf8>"
      ]
     },
     "metadata": {},
     "output_type": "display_data"
    }
   ],
   "source": [
    "# Using the elbow method to find the optimal number of clusters\n",
    "wcss = []\n",
    "for i in range(1, 11):\n",
    "    kmeans = KMeans(n_clusters = i, init = 'k-means++', random_state = 42)\n",
    "    kmeans.fit(X)\n",
    "    wcss.append(kmeans.inertia_)\n",
    "plt.plot(range(1, 11), wcss)\n",
    "plt.title('The Elbow Method')\n",
    "plt.xlabel('Number of clusters')\n",
    "plt.ylabel('WCSS')\n",
    "plt.show()\n"
   ]
  },
  {
   "cell_type": "markdown",
   "metadata": {},
   "source": [
    "From the elbow method we can approximate that 2 clusters is probably the right number of clusters for this corpus"
   ]
  },
  {
   "cell_type": "markdown",
   "metadata": {},
   "source": [
    "The data collected was very sparse and hence a TruncatedSVD was used instead of PCA. Truncated SVD is ideaal for dimensionality reduction in sparse dataset"
   ]
  },
  {
   "cell_type": "code",
   "execution_count": 434,
   "metadata": {
    "collapsed": true
   },
   "outputs": [],
   "source": [
    "SVD = TruncatedSVD(n_components=2).fit(X)\n",
    "SVD_2d = pca.transform(X)\n"
   ]
  },
  {
   "cell_type": "code",
   "execution_count": 540,
   "metadata": {},
   "outputs": [
    {
     "data": {
      "text/plain": [
       "KMeans(algorithm='auto', copy_x=True, init='k-means++', max_iter=100,\n",
       "    n_clusters=2, n_init=1, n_jobs=1, precompute_distances='auto',\n",
       "    random_state=None, tol=0.0001, verbose=0)"
      ]
     },
     "execution_count": 540,
     "metadata": {},
     "output_type": "execute_result"
    }
   ],
   "source": [
    "#Kmeans clustering\n",
    "true_k = 2\n",
    "model = KMeans(n_clusters=true_k, init='k-means++', max_iter=100, n_init=1)\n",
    "model.fit(X)"
   ]
  },
  {
   "cell_type": "code",
   "execution_count": 444,
   "metadata": {},
   "outputs": [
    {
     "name": "stdout",
     "output_type": "stream",
     "text": [
      "Top terms for each of our Kmeans clusters:\n",
      "Cluster 0:\n",
      " jobs\n",
      " rt\n",
      " helpful\n",
      " information\n",
      " job\n",
      " resume\n",
      " video\n",
      " apply\n",
      " today\n",
      " did\n",
      "Cluster 1:\n",
      " wall\n",
      " don\n",
      " beating\n",
      " time\n",
      " spend\n",
      " evocoach1\n",
      " rt\n",
      " youtern\n",
      " gethired\n",
      " does\n"
     ]
    }
   ],
   "source": [
    "print(\"Top terms for each of our Kmeans clusters:\")\n",
    "order_centroids = model.cluster_centers_.argsort()[:, ::-1]\n",
    "terms = vectorizer.get_feature_names()\n",
    "for i in range(true_k):\n",
    "    print (\"Cluster %d:\" % i)\n",
    "    for ind in order_centroids[i, :10]:\n",
    "        print (' %s' % terms[ind])\n",
    "    print"
   ]
  },
  {
   "cell_type": "markdown",
   "metadata": {},
   "source": [
    "## Visualize clusters"
   ]
  },
  {
   "cell_type": "code",
   "execution_count": 443,
   "metadata": {},
   "outputs": [
    {
     "data": {
      "image/png": "[encoded data removed]",
      "text/plain": [
       "<matplotlib.figure.Figure at 0x277e7db1be0>"
      ]
     },
     "metadata": {},
     "output_type": "display_data"
    }
   ],
   "source": [
    "for i in range(0, SVD_2d.shape[0]):\n",
    "    if model.labels_[i] == 1:\n",
    "         clus1 = plt.scatter(SVD_2d[i,0],SVD_2d[i,1],c='r',marker='+')\n",
    "    if model.labels_[i] == 0:\n",
    "         clus2 = plt.scatter(SVD_2d[i,0],SVD_2d[i,1],c='g',marker='o')\n",
    "    plt.legend([clus1, clus2],['Cluster 1', 'Cluster 0'])\n",
    "    plt.title('K-means clusters from tfidf')\n",
    "plt.show()"
   ]
  },
  {
   "cell_type": "code",
   "execution_count": 454,
   "metadata": {},
   "outputs": [
    {
     "data": {
      "image/png": "[encoded data removed]",
      "text/plain": [
       "<matplotlib.figure.Figure at 0x277e74ad278>"
      ]
     },
     "metadata": {},
     "output_type": "display_data"
    }
   ],
   "source": [
    "sns.set(style=\"darkgrid\")\n",
    "ax = sns.countplot(x=\"Location\", data=data)\n",
    "plt.title('Location and tweet counts')\n",
    "plt.show()"
   ]
  },
  {
   "cell_type": "markdown",
   "metadata": {},
   "source": [
    "A more detailed location analysis can be done using Cartograms and heatmaps"
   ]
  },
  {
   "cell_type": "markdown",
   "metadata": {},
   "source": [
    "# Topic Modelling using Latent Dirichlet allocation (LDA)"
   ]
  },
  {
   "cell_type": "markdown",
   "metadata": {},
   "source": [
    "In this section we follow NLP approaches to look for possible topics from our tweet corpus. LDA has been chosen for our analysis ahead of Latent Semantic Analysis, since LDA has been proven to be more accurate eventhough it takes some time to train"
   ]
  },
  {
   "cell_type": "code",
   "execution_count": 518,
   "metadata": {},
   "outputs": [],
   "source": [
    "#Tokenize and stem\n",
    "tokenizer = RegexpTokenizer(r'\\w+')\n",
    "corp= major_filt_words\n",
    "p_stemmer = PorterStemmer()\n",
    "\n",
    "#Create tokenized document list\n",
    "tokenized = []\n",
    "\n",
    "for i in corp:\n",
    "    raw = i.lower()\n",
    "    tokens = tokenizer.tokenize(raw)\n",
    "    #Stemming\n",
    "    stemtokens = [p_stemmer.stem(i) for i in tokens]\n",
    "    # append tokens \n",
    "    tokenized.append(stemtokens)\n"
   ]
  },
  {
   "cell_type": "code",
   "execution_count": 520,
   "metadata": {
    "collapsed": true
   },
   "outputs": [],
   "source": [
    "#Id2word dictionary\n",
    "id2word = corpora.Dictionary(tokenized)\n"
   ]
  },
  {
   "cell_type": "code",
   "execution_count": 521,
   "metadata": {
    "collapsed": true
   },
   "outputs": [],
   "source": [
    "#Document term matrix\n",
    "doc_term = [id2word.doc2bow(text) for text in tokenized]"
   ]
  },
  {
   "cell_type": "code",
   "execution_count": 522,
   "metadata": {
    "collapsed": true
   },
   "outputs": [],
   "source": [
    "#Model\n",
    "ldamodel = gensim.models.ldamodel.LdaModel(doc_term, num_topics=20, id2word = id2word, passes=20)"
   ]
  },
  {
   "cell_type": "markdown",
   "metadata": {},
   "source": [
    "Find most contributing words for 10 randomly selected topics"
   ]
  },
  {
   "cell_type": "code",
   "execution_count": 524,
   "metadata": {},
   "outputs": [
    {
     "data": {
      "text/plain": [
       "[(3,\n",
       "  '0.057*\"jobsearch\" + 0.032*\"you\" + 0.030*\"hire\" + 0.027*\"contractor\" + 0.027*\"mommyjobsonlin\" + 0.027*\"agent\" + 0.027*\"independ\" + 0.026*\"custom\" + 0.026*\"servic\" + 0.026*\"boardmanor\"'),\n",
       " (10,\n",
       "  '0.034*\"your\" + 0.022*\"jobsearch\" + 0.022*\"job\" + 0.022*\"you\" + 0.022*\"linkedin\" + 0.022*\"success\" + 0.022*\"myth\" + 0.022*\"with\" + 0.012*\"rt\" + 0.012*\"a\"'),\n",
       " (13,\n",
       "  '0.070*\"job\" + 0.063*\"jobsearch\" + 0.024*\"hire\" + 0.018*\"post\" + 0.017*\"market\" + 0.017*\"ca\" + 0.014*\"in\" + 0.014*\"from\" + 0.014*\"friend\" + 0.014*\"jobreport\"'),\n",
       " (8,\n",
       "  '0.081*\"job\" + 0.071*\"jobsearch\" + 0.034*\"market\" + 0.025*\"hire\" + 0.023*\"and\" + 0.023*\"losangel\" + 0.023*\"losangelesca\" + 0.016*\"manag\" + 0.014*\"in\" + 0.014*\"angel\"'),\n",
       " (11,\n",
       "  '0.048*\"job\" + 0.043*\"jobsearch\" + 0.031*\"you\" + 0.027*\"a\" + 0.023*\"in\" + 0.019*\"rt\" + 0.017*\"ny\" + 0.016*\"for\" + 0.016*\"applynow\" + 0.016*\"melbourn\"'),\n",
       " (17,\n",
       "  '0.050*\"to\" + 0.044*\"need\" + 0.044*\"you\" + 0.044*\"tip\" + 0.040*\"jobsearch\" + 0.038*\"that\" + 0.038*\"5\" + 0.031*\"know\" + 0.031*\"top\" + 0.031*\"resumewrit\"'),\n",
       " (16,\n",
       "  '0.035*\"hire\" + 0.035*\"jobsearch\" + 0.024*\"amp\" + 0.024*\"food\" + 0.024*\"time\" + 0.024*\"part\" + 0.024*\"disney\" + 0.024*\"hotel\" + 0.024*\"anaheim\" + 0.024*\"disneyland\"'),\n",
       " (14,\n",
       "  '0.042*\"jobsearch\" + 0.031*\"you\" + 0.030*\"interview\" + 0.030*\"to\" + 0.021*\"what\" + 0.020*\"rt\" + 0.016*\"brea\" + 0.016*\"time\" + 0.016*\"do\" + 0.015*\"is\"'),\n",
       " (18,\n",
       "  '0.050*\"job\" + 0.046*\"jobsearch\" + 0.028*\"for\" + 0.022*\"in\" + 0.019*\"your\" + 0.019*\"a\" + 0.018*\"the\" + 0.016*\"manag\" + 0.014*\"rt\" + 0.014*\"amp\"'),\n",
       " (4,\n",
       "  '0.054*\"jobsearch\" + 0.045*\"for\" + 0.025*\"job\" + 0.025*\"you\" + 0.021*\"to\" + 0.019*\"anyon\" + 0.019*\"recommend\" + 0.019*\"thi\" + 0.018*\"can\" + 0.018*\"hire\"')]"
      ]
     },
     "execution_count": 524,
     "metadata": {},
     "output_type": "execute_result"
    }
   ],
   "source": [
    "ldamodel.print_topics(10)\n"
   ]
  },
  {
   "cell_type": "markdown",
   "metadata": {},
   "source": [
    "This model can be used to train on new unseen documents(Tweets). More exploration on this model can give better topic level association between the tweets"
   ]
  },
  {
   "cell_type": "markdown",
   "metadata": {},
   "source": [
    "Future approaches:\n",
    "1. Other that this data can be visualized dynamically so that whenever the Spark Parquet drops a new stream file the data is visualized and a more intuitive geographical and word level association can be made visually\n",
    "2. Creating heatmaps can also enable us to analyze the tweet frequency\n",
    "3. Ranking algorithms like Pagerank can also be used to rank \n",
    "4. The sentimental analysis algorithm results can be used as a penalizing factor to create more effective ranking of the tweets and job information"
   ]
  }
 ],
 "metadata": {
  "kernelspec": {
   "display_name": "Python 3",
   "language": "python",
   "name": "python3"
  },
  "language_info": {
   "codemirror_mode": {
    "name": "ipython",
    "version": 3
   },
   "file_extension": ".py",
   "mimetype": "text/x-python",
   "name": "python",
   "nbconvert_exporter": "python",
   "pygments_lexer": "ipython3",
   "version": "3.6.1"
  }
 },
 "nbformat": 4,
 "nbformat_minor": 2
}
